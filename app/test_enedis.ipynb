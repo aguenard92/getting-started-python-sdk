{
 "cells": [
  {
   "cell_type": "code",
   "execution_count": 14,
   "metadata": {},
   "outputs": [],
   "source": [
    "import requests\n",
    "import json\n",
    "\n",
    "\n",
    "\n",
    "class EnedisAPI:\n",
    "\n",
    "    def __init__(self) -> None:\n",
    "        pass\n",
    "\n",
    "    \n",
    "    def get_access_token(self, credential_path):\n",
    "        \"\"\"\n",
    "        Retrieve the access token from the Enedis API\n",
    "        \"\"\"\n",
    "\n",
    "        with open(credential_path, 'r') as json_file:\n",
    "            credential_json = json.load(json_file)\n",
    "\n",
    "        client_ID = credential_json['client_ID']\n",
    "        client_secret = credential_json['client_secret']\n",
    "\n",
    "\n",
    "        url = \"https://gw.ext.prod-sandbox.api.enedis.fr/oauth2/v3/token\"\n",
    "        headers = {\n",
    "            \"Content-Type\": \"application/x-www-form-urlencoded\",\n",
    "        }\n",
    "\n",
    "        data = {\n",
    "            \"grant_type\": \"client_credentials\",\n",
    "            \"client_id\": client_ID,  # Replace with your actual client ID\n",
    "            \"client_secret\": client_secret  # Replace with your actual client secret\n",
    "        }\n",
    "\n",
    "        response = requests.post(url, headers=headers, data=data)\n",
    "\n",
    "        # To get the response data\n",
    "        if response.status_code == 200:\n",
    "            token = response.json()  # Extract the JSON response\n",
    "            print(\"Access Token:\", token)\n",
    "            self.access_token = token['access_token']\n",
    "        else:\n",
    "            print(f\"Failed to get token, Status code: {response.status_code}, Response: {response.text}\")\n",
    "\n",
    "\n",
    "\n",
    "    def collect_consumption_data(self,\n",
    "                                 usage_point_id,\n",
    "                                 start,\n",
    "                                 end):\n",
    "        \"\"\"\n",
    "        Collect the consumption load curve from the API. This should be after that\n",
    "        we obtain the access token\n",
    "        Args:\n",
    "            usage_point_id (str) : PRM of the Linky device\n",
    "            start (str) : start data of the sampling (format YYYY-MM-DD)\n",
    "            end (str) : start data of the sampling (format YYYY-MM-DD)\n",
    "        \"\"\"\n",
    "\n",
    "        url = \"https://gw.ext.prod-sandbox.api.enedis.fr/metering_data_clc/v5/consumption_load_curve\"\n",
    "\n",
    "        # Replace these placeholders with actual values\n",
    "        params = {\n",
    "            \"start\": start,  # e.g., \"2023-10-01\"\n",
    "            \"end\": end,  # e.g., \"2023-10-02\"\n",
    "            \"usage_point_id\": usage_point_id\n",
    "        }\n",
    "\n",
    "        headers = {\n",
    "            \"Accept\": \"application/json\",\n",
    "            \"Authorization\": f\"Bearer {self.access_token}\"  # Replace with the actual access token\n",
    "        }\n",
    "\n",
    "        # Send the GET request with parameters and headers\n",
    "        response = requests.get(url, headers=headers, params=params)\n",
    "\n",
    "        # Check for successful request\n",
    "        if response.status_code == 200:\n",
    "            consumption_load_curve = response.json()  # Extract the JSON response\n",
    "            print(\"Response Data:\", consumption_load_curve)\n",
    "            self.consumption_load_curve = consumption_load_curve\n",
    "        else:\n",
    "            print(f\"Failed to fetch data. Status code: {response.status_code}, Response: {response.text}\")"
   ]
  },
  {
   "cell_type": "code",
   "execution_count": 15,
   "metadata": {},
   "outputs": [
    {
     "name": "stdout",
     "output_type": "stream",
     "text": [
      "Access Token: {'access_token': 'eyJ0eXAiOiJKV1QiLCJhbGciOiJSUzI1NiIsIng1dCI6Ik5tSTROV00wWkdWa01HUmxZakZtWXpsbE5tTTRNREUzWVdFek1UVXlZMlUxWkdabU9XVmtNUT09In0.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.VQ04OWx0asK2Rs_8pV4pPPfKzE87NwEIe17dH2G4iKe_L_pelGmMzE_uchUth2Vr5x7X4zUNWugqqCT90HgCVBeSM-lgkVOlzAl1xT2217s76lmF6nwnytRm20bMM_GqijU2dH8fH7E15F5_zWCWfZEn5cIMMSMIK6_F8zIaFPqwpruMAWU1UeoBHi_-r2pouI1aNaRK3YmC69zuvQz0WcEok6T7o5hArK709M8F50e2rkNpbVN_1mnhqaJNMwqbETjpnbtislQ3Z1tIcaNsLifSy1DGexGpTlR-pqnt636j5ov-T1v9GN2nL1E6CgNOUNFEwPVTTz05g_XaiCkYbw', 'scope': 'am_application_scope default', 'token_type': 'Bearer', 'expires_in': 12600}\n"
     ]
    }
   ],
   "source": [
    "credential_path = '/Users/adrienguenard/Desktop/EF/0.Input/Credential/credential_Enedis.json'\n",
    "\n",
    "#usage_point_id = '24880057139941'\n",
    "usage_point_id = '16401220101758'\n",
    "start = '2024-10-10'\n",
    "end = '2024-10-12'\n",
    "\n",
    "\n",
    "EnedisData = EnedisAPI()\n",
    "\n",
    "EnedisData.get_access_token(credential_path)\n",
    "\n"
   ]
  },
  {
   "cell_type": "code",
   "execution_count": 16,
   "metadata": {},
   "outputs": [
    {
     "name": "stdout",
     "output_type": "stream",
     "text": [
      "eyJ0eXAiOiJKV1QiLCJhbGciOiJSUzI1NiIsIng1dCI6Ik5tSTROV00wWkdWa01HUmxZakZtWXpsbE5tTTRNREUzWVdFek1UVXlZMlUxWkdabU9XVmtNUT09In0.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.VQ04OWx0asK2Rs_8pV4pPPfKzE87NwEIe17dH2G4iKe_L_pelGmMzE_uchUth2Vr5x7X4zUNWugqqCT90HgCVBeSM-lgkVOlzAl1xT2217s76lmF6nwnytRm20bMM_GqijU2dH8fH7E15F5_zWCWfZEn5cIMMSMIK6_F8zIaFPqwpruMAWU1UeoBHi_-r2pouI1aNaRK3YmC69zuvQz0WcEok6T7o5hArK709M8F50e2rkNpbVN_1mnhqaJNMwqbETjpnbtislQ3Z1tIcaNsLifSy1DGexGpTlR-pqnt636j5ov-T1v9GN2nL1E6CgNOUNFEwPVTTz05g_XaiCkYbw\n",
      "Failed to fetch data. Status code: 500, Response: {\"error\":\"technical_error\",\"error_description\":\"Technical error. Please try later.\"}\n"
     ]
    }
   ],
   "source": [
    "print(EnedisData.access_token)\n",
    "EnedisData.collect_consumption_data(usage_point_id, start, end)"
   ]
  },
  {
   "cell_type": "code",
   "execution_count": null,
   "metadata": {},
   "outputs": [],
   "source": []
  }
 ],
 "metadata": {
  "kernelspec": {
   "display_name": "smart_car",
   "language": "python",
   "name": "python3"
  },
  "language_info": {
   "codemirror_mode": {
    "name": "ipython",
    "version": 3
   },
   "file_extension": ".py",
   "mimetype": "text/x-python",
   "name": "python",
   "nbconvert_exporter": "python",
   "pygments_lexer": "ipython3",
   "version": "3.10.15"
  }
 },
 "nbformat": 4,
 "nbformat_minor": 2
}
